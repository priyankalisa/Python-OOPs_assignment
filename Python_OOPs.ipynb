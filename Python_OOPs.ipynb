{
  "nbformat": 4,
  "nbformat_minor": 0,
  "metadata": {
    "colab": {
      "provenance": []
    },
    "kernelspec": {
      "name": "python3",
      "display_name": "Python 3"
    },
    "language_info": {
      "name": "python"
    }
  },
  "cells": [
    {
      "cell_type": "markdown",
      "source": [
        "1. What is Object-Oriented Programming (OOP)?\n",
        "- OOP is a way of writing programs using objects, which combine data (like variables) and actions (like functions). It helps you:\n",
        "  - Reuse code easily\n",
        "  - Organize your program better\n",
        "  - Hide complex details (abstraction)\n",
        "  - Protect data (encapsulation)\n",
        "  - Use inherited features (inheritance)\n",
        "  - Use one method in different ways (polymorphism)\n",
        "2. What is a class in OOP?\n",
        "- A class is a blueprint or template for creating objects. It defines attributes (variables) and methods (functions) that its objects will have.\n",
        "3. What is an object in OOP?\n",
        "- An object is an instance of a class. It represents a specific entity created from the class.\n",
        "4. What is the difference between abstraction and encapsulation?\n",
        "- Abstraction: Hides implementation details and shows only the relevant features. Achieved using abstract classes and methods.\n",
        "- Encapsulation: Hides internal state and protects data using access control (e.g., private variables with getters/setters).\n",
        "5. What are dunder methods in Python?\n",
        "- \"Dunder\" methods are special methods with double underscores (like __init__, __str__). They enable operator overloading and define object behavior.\n",
        "6. Explain the concept of inheritance in OOP.\n",
        "- Inheritance means one class (child class) can use the features (like variables and methods) of another class (parent class).\n",
        "- It helps reuse code and avoid repetition.\n",
        "7. What is polymorphism in OOP?\n",
        "- Polymorphism means \"many forms\" — the same function or method can work in different ways depending on the object that uses it.\n",
        "8. How is encapsulation achieved in Python?\n",
        "- Encapsulation means hiding the internal details of how a class works and protecting the data from being changed directly.\n",
        "- Encapsulation in Python is done by:\n",
        "  - Making variables private using __ (double underscore)\n",
        "  - Using getter and setter methods to access or update the data\n",
        "9. What is a constructor in Python?\n",
        "- A constructor is a special method used to create and initialize objects in a class.\n",
        "- In Python, the constructor is called __init__() and runs automatically when you create an object.\n",
        "10. What are class and static methods in Python?\n",
        "- Class Method\n",
        "  - Uses @classmethod decorator\n",
        "  - Takes cls as the first argument (not self)\n",
        "  - Can access and modify class variables\n",
        "- Static Method\n",
        "  - Uses @staticmethod decorator\n",
        "  - Takes no self or cls\n",
        "  - Acts like a regular function inside a class\n",
        "  - Can’t access class or instance data directly\n",
        "11. What is method overloading in Python?\n",
        "- Method overloading means having multiple methods with the same name but different parameters.\n",
        "- Python does not support method overloading directly.\n",
        "12. What is method overriding in OOP?\n",
        "- Method overriding occurs when a child class provides its own version of a method that is already defined in the parent class.\n",
        "- This allows the child class to customize or completely replace the inherited behavior.\n",
        "13. What is a property decorator in Python?\n",
        "- property decorator (@property) is used to make a method behave like an attribute.\n",
        "- It is commonly used for creating getter methods, and can also be extended with @<property>.setter and @<property>.deleter to control access to private variables.\n",
        "14. Why is polymorphism important in OOP?\n",
        "- Polymorphism allows objects of different classes to be treated through the same interface.\n",
        "- It helps in writing flexible and reusable code, where the same method name can perform different tasks depending on the object type.\n",
        "15. What is an abstract class in Python?\n",
        "- An abstract class is a class that cannot be instantiated and is designed to be a base class.\n",
        "- It may contain abstract methods, which are declared but not implemented.\n",
        "- In Python, abstract classes are created using the abc module and the @abstractmethod decorator.\n",
        "16. What are the advantages of OOP?\n",
        "- Modularity: Code is organized into classes.\n",
        "- Reusability: Inheritance allows code reuse.\n",
        "- Encapsulation: Protects data and hides complexity.\n",
        "- Abstraction: Focuses on essential features only.\n",
        "- Polymorphism: One interface, many implementations.\n",
        "17. What is the difference between a class variable and an instance variable?\n",
        "- Class variable: Shared by all instances of a class. Defined at the class level.\n",
        "- Instance variable: Unique to each object. Defined inside methods using self.\n",
        "- Class variables are used for properties common to all objects, while instance variables store object-specific data.\n",
        "18. What is multiple inheritance in Python?\n",
        "- Multiple inheritance means a class can inherit from more than one parent class.\n",
        "This allows a child class to access the properties and methods of all its parent classes.\n",
        "- Python resolves conflicts using the Method Resolution Order (MRO).\n",
        "19. Explain the purpose of ‘’__str__’ and ‘__repr__’ ‘ methods in Python.\n",
        "- __str__: Returns a user-friendly string representation of the object. Used by print() and str().\n",
        "- __repr__: Returns an unambiguous string for debugging. Used in the Python shell and by repr().\n",
        "20. What is the significance of the ‘super()’ function in Python?\n",
        "- super() is used to call methods from a parent class in a child class.\n",
        "It is commonly used in inheritance, especially in constructors (__init__) to avoid rewriting code from the parent class.\n",
        "21. What is the significance of the __del__ method in Python?\n",
        "- __del__ is a destructor method that is called when an object is about to be deleted.\n",
        "- It can be used to release resources like closing files or network connections, but it’s rarely used because Python has automatic garbage collection.\n",
        "22. What is the difference between @staticmethod and @classmethod in Python?\n",
        "- A @staticmethod is a method that does not take self or cls as its first parameter. It behaves like a regular function but is placed inside a class for organizational purposes. It cannot access or modify class or instance data.\n",
        "- A @classmethod takes cls as its first parameter, which refers to the class itself (not the instance). It can access and modify class variables, and it’s often used to create factory methods that return class objects.\n",
        "23. How does polymorphism work in Python with inheritance?\n",
        "- In Python, polymorphism allows different classes to implement the same method in different ways.\n",
        "- When using inheritance, a child class can override methods from the parent class.\n",
        "- When a method is called on an object, Python will run the version that matches the object's actual class, not the variable type.\n",
        "24. What is method chaining in Python OOP?\n",
        "- Method chaining allows calling multiple methods on the same object in a single line.\n",
        "- Each method must return self.\n",
        "25. What is the purpose of the __call__ method in Python?\n",
        "- The __call__ method makes an object callable like a function.\n",
        "- If a class has a __call__ method, you can use object() like a function."
      ],
      "metadata": {
        "id": "mVAkDWQCCJ6q"
      }
    },
    {
      "cell_type": "code",
      "execution_count": null,
      "metadata": {
        "colab": {
          "base_uri": "https://localhost:8080/"
        },
        "id": "TU0TjoMVCH_9",
        "outputId": "9b2926d8-f775-4067-dcf2-ce5534cba78d"
      },
      "outputs": [
        {
          "output_type": "stream",
          "name": "stdout",
          "text": [
            "Bark!\n"
          ]
        }
      ],
      "source": [
        "'''1. Create a parent class Animal with a method speak() that prints a generic message. Create a child class Dog\n",
        "that overrides the speak() method to print \"Bark!\".'''\n",
        "class Animal:\n",
        "  def speak(self):\n",
        "    print(\"The animal makes a sound.\")\n",
        "class Dog(Animal):\n",
        "  def speak(self):\n",
        "    print(\"Bark!\")\n",
        "d=Dog()\n",
        "d.speak()"
      ]
    },
    {
      "cell_type": "code",
      "source": [
        "'''2. Write a program to create an abstract class Shape with a method area(). Derive classes Circle and Rectangle\n",
        "from it and implement the area() method in both.'''\n",
        "from abc import ABC,abstractmethod\n",
        "class Shape(ABC):\n",
        "  @abstractmethod\n",
        "  def area(self):\n",
        "    pass\n",
        "class Circle(Shape):\n",
        "  def __init__(self,r):\n",
        "    self.r=r\n",
        "  def area(self):\n",
        "    return  3.14*self.r*self.r\n",
        "class Rectangle(Shape):\n",
        "  def __init__(self,r,w):\n",
        "    self.r=r\n",
        "    self.w=w\n",
        "  def area(self):\n",
        "    return  self.r*self.w\n",
        "c=Circle(2)\n",
        "print(\"Area of the circle:\",c.area())\n",
        "r=Rectangle(2,3)\n",
        "print(\"Area of the rectangle:\",r.area())"
      ],
      "metadata": {
        "colab": {
          "base_uri": "https://localhost:8080/"
        },
        "id": "-h1NlkIcDb0w",
        "outputId": "7761499b-1a35-4b3e-9ed4-1c4d0f8c8e0f"
      },
      "execution_count": null,
      "outputs": [
        {
          "output_type": "stream",
          "name": "stdout",
          "text": [
            "Area of the circle: 12.56\n",
            "Area of the rectangle: 6\n"
          ]
        }
      ]
    },
    {
      "cell_type": "code",
      "source": [
        "'''3. Implement a multi-level inheritance scenario where a class Vehicle has an attribute type. Derive a class Car\n",
        "and further derive a class ElectricCar that adds a battery attribute.'''\n",
        "class Vehicle:\n",
        "  def __init__(self,type):\n",
        "    self.t=type\n",
        "class Car(Vehicle):\n",
        "  def __init__(self,type,color):\n",
        "    super().__init__(type)\n",
        "    self.c=color\n",
        "class ElectricCar(Car):\n",
        "  def __init__(self,type,color,battery):\n",
        "    super().__init__(type,color)\n",
        "    self.b=battery\n",
        "v=Vehicle(\"Uber\")\n",
        "print(\"Type of vehicle is:\",v.t)\n",
        "c=Car(\"Uber\",\"red color\")\n",
        "print(\"Color of car is:\",c.c)\n",
        "print(\"Type of car is:\",c.t)\n",
        "e=ElectricCar(\"Uber Car\",\"red color\",\"40kWh\")\n",
        "print(\"Battery capacity is:\",e.b)\n",
        "print(\"Type of electric-car is:\",e.t)\n",
        "print(\"Color of electric-car is:\",e.c)"
      ],
      "metadata": {
        "colab": {
          "base_uri": "https://localhost:8080/"
        },
        "id": "gF53HidVDbxL",
        "outputId": "1f5d6a8b-a03b-4d54-ae80-3372dc6deb2c"
      },
      "execution_count": null,
      "outputs": [
        {
          "output_type": "stream",
          "name": "stdout",
          "text": [
            "Type of vehicle is: Uber\n",
            "Color of car is: red color\n",
            "Type of car is: Uber\n",
            "Battery capacity is: 40kWh\n",
            "Type of electric-car is: Uber Car\n",
            "Color of electric-car is: red color\n"
          ]
        }
      ]
    },
    {
      "cell_type": "code",
      "source": [
        "'''4. Demonstrate polymorphism by creating a base class Bird with a method fly(). Create two derived classes\n",
        "Sparrow and Penguin that override the fly() method.'''\n",
        "class Bird:\n",
        "  def fly(self):\n",
        "    print(\"Some birds can fly.\")\n",
        "class Sparrow(Bird):\n",
        "  def fly(self):\n",
        "    print(\"Sparrow flies high in the sky.\")\n",
        "class Penguin(Bird):\n",
        "  def fly(self):\n",
        "    print(\"Penguins cannot fly but can swim.\")\n",
        "b=Bird()\n",
        "b.fly()\n",
        "s=Sparrow()\n",
        "s.fly()\n",
        "p=Penguin()\n",
        "p.fly()"
      ],
      "metadata": {
        "colab": {
          "base_uri": "https://localhost:8080/"
        },
        "id": "K2XELpo8Dbuj",
        "outputId": "a57dc934-17f1-4cb0-8343-00efe1e44c5a"
      },
      "execution_count": null,
      "outputs": [
        {
          "output_type": "stream",
          "name": "stdout",
          "text": [
            "Some birds can fly.\n",
            "Sparrow flies high in the sky.\n",
            "Penguins cannot fly but can swim.\n"
          ]
        }
      ]
    },
    {
      "cell_type": "code",
      "source": [
        "'''5. Write a program to demonstrate encapsulation by creating a class BankAccount with private attributes\n",
        "balance and methods to deposit, withdraw, and check balance.'''\n",
        "class BankAccount:\n",
        "  def __init__(self,balance):\n",
        "    self.__balance=balance\n",
        "  def deposit(self,amount1):\n",
        "    self.__balance=self.__balance+amount1\n",
        "    print(amount1,\"-->Deposited amount successfully.\")\n",
        "  def withdraw(self,amount2):\n",
        "    self.__balance=self.__balance-amount2\n",
        "    print(amount2,\"-->Withdrawal successful.\")\n",
        "  def check_balance(self):\n",
        "    print(\"The balance is:\",self.__balance)\n",
        "b=BankAccount(15000)\n",
        "b.deposit(2000)\n",
        "b.withdraw(3000)\n",
        "b.check_balance()"
      ],
      "metadata": {
        "colab": {
          "base_uri": "https://localhost:8080/"
        },
        "id": "QCaScyPVDbr6",
        "outputId": "369b76d8-eb49-43c8-d3bb-ccfca0db4268"
      },
      "execution_count": null,
      "outputs": [
        {
          "output_type": "stream",
          "name": "stdout",
          "text": [
            "2000 -->Deposited amount successfully.\n",
            "3000 -->Withdrawal successful.\n",
            "The balance is: 14000\n"
          ]
        }
      ]
    },
    {
      "cell_type": "code",
      "source": [
        "'''6. Demonstrate runtime polymorphism using a method play() in a base class Instrument. Derive classes Guitar\n",
        "and Piano that implement their own version of play().'''\n",
        "class Instrument:\n",
        "  def play(self):\n",
        "    print(\"Instrument is playing sound.\")\n",
        "class Guitar(Instrument):\n",
        "  def play(self):\n",
        "    print(\"Guitar is strumming chords.\")\n",
        "class Piano(Instrument):\n",
        "  def play(self):\n",
        "    print(\"Piano is playing melody.\")\n",
        "i=Instrument()\n",
        "i.play()\n",
        "g=Guitar()\n",
        "g.play()\n",
        "p=Piano()\n",
        "p.play()"
      ],
      "metadata": {
        "id": "Ws1T3xN2Dbpb",
        "colab": {
          "base_uri": "https://localhost:8080/"
        },
        "outputId": "e3f734fb-9fa8-4a2a-935d-03c705fef43b"
      },
      "execution_count": 3,
      "outputs": [
        {
          "output_type": "stream",
          "name": "stdout",
          "text": [
            "Instrument is playing sound.\n",
            "Guitar is strumming chords.\n",
            "Piano is playing melody.\n"
          ]
        }
      ]
    },
    {
      "cell_type": "code",
      "source": [
        "'''7. Create a class MathOperations with a class method add_numbers() to add two numbers and a static\n",
        "method subtract_numbers() to subtract two numbers.'''\n",
        "class MathOperations:\n",
        "  @classmethod\n",
        "  def add_numbers(cls,a,b):\n",
        "    return a+b\n",
        "  @staticmethod\n",
        "  def subtract_numbers(a,b):\n",
        "    return a-b\n",
        "print(\"Addition of two numbers is:\",MathOperations.add_numbers(2,3))\n",
        "print(\"Subtraction of two numbers is:\",MathOperations.subtract_numbers(5,3))"
      ],
      "metadata": {
        "id": "ftqL4qcVDbmy",
        "colab": {
          "base_uri": "https://localhost:8080/"
        },
        "outputId": "d710cf78-ac1b-4098-ea4a-99c232585cdb"
      },
      "execution_count": 8,
      "outputs": [
        {
          "output_type": "stream",
          "name": "stdout",
          "text": [
            "Addition of two numbers is: 5\n",
            "Subtraction of two numbers is: 2\n"
          ]
        }
      ]
    },
    {
      "cell_type": "code",
      "source": [
        "'''8. Implement a class Person with a class method to count the total number of persons created.'''\n",
        "class Person:\n",
        "  count=0\n",
        "  def __init__(self):\n",
        "    Person.count=Person.count+1\n",
        "  @classmethod\n",
        "  def count_result(cls):\n",
        "    print(\"Total number of persons created:\", cls.count)\n",
        "p1=Person()\n",
        "p2=Person()\n",
        "p3=Person()\n",
        "Person.count_result()"
      ],
      "metadata": {
        "id": "szXxXZ4FDbj6",
        "colab": {
          "base_uri": "https://localhost:8080/"
        },
        "outputId": "ef26406f-ce30-406d-add4-a41c94d8a188"
      },
      "execution_count": 11,
      "outputs": [
        {
          "output_type": "stream",
          "name": "stdout",
          "text": [
            "Total number of persons created: 3\n"
          ]
        }
      ]
    },
    {
      "cell_type": "code",
      "source": [
        "'''9. Write a class Fraction with attributes numerator and denominator. Override the str method to display the\n",
        "fraction as \"numerator/denominator\".'''\n",
        "class Fraction:\n",
        "  def __init__(self, numerator, denominator):\n",
        "    self.numerator = numerator\n",
        "    self.denominator = denominator\n",
        "  def __str__(self):\n",
        "    return f\"{self.numerator}/{self.denominator}\"\n",
        "f = Fraction(3, 4)\n",
        "print(f)\n"
      ],
      "metadata": {
        "id": "x6mEtoasDbhK",
        "colab": {
          "base_uri": "https://localhost:8080/"
        },
        "outputId": "ea066606-996a-4d07-e0fd-c530bf59793b"
      },
      "execution_count": 27,
      "outputs": [
        {
          "output_type": "stream",
          "name": "stdout",
          "text": [
            "3/4\n"
          ]
        }
      ]
    },
    {
      "cell_type": "code",
      "source": [
        "'''10. Demonstrate operator overloading by creating a class Vector and overriding the add method to add two\n",
        "vectors.'''\n",
        "class Vector:\n",
        "  def __init__(self, x, y):\n",
        "    self.x = x\n",
        "    self.y = y\n",
        "  def __add__(self, other):\n",
        "    return Vector(self.x + other.x, self.y + other.y)\n",
        "  def __str__(self):\n",
        "    return f\"Vector({self.x}, {self.y})\"\n",
        "v1 = Vector(2, 3)\n",
        "v2 = Vector(4, 1)\n",
        "v3 = v1 + v2\n",
        "print(v3)\n"
      ],
      "metadata": {
        "id": "4ResSocUDbey",
        "colab": {
          "base_uri": "https://localhost:8080/"
        },
        "outputId": "3797ba4b-4e42-4fb6-ac7c-9a2952b5d825"
      },
      "execution_count": 28,
      "outputs": [
        {
          "output_type": "stream",
          "name": "stdout",
          "text": [
            "Vector(6, 4)\n"
          ]
        }
      ]
    },
    {
      "cell_type": "code",
      "source": [
        "'''11. Create a class Person with attributes name and age. Add a method greet() that prints \"Hello, my name is\n",
        "{name} and I am {age} years old.\"'''\n",
        "class Person:\n",
        "  def __init__(self,name,age):\n",
        "    self.name=name\n",
        "    self.age=age\n",
        "  def greet(self):\n",
        "    print(f\"Hello, my name is {self.name} and I am {self.age} years old.\")\n",
        "p=Person(\"Lisa\",21)\n",
        "p.greet()"
      ],
      "metadata": {
        "id": "8y4zJK7uDbcB",
        "colab": {
          "base_uri": "https://localhost:8080/"
        },
        "outputId": "94c2236c-4f7f-4133-9c49-f6832be0f1d4"
      },
      "execution_count": 26,
      "outputs": [
        {
          "output_type": "stream",
          "name": "stdout",
          "text": [
            "Hello, my name is Lisa and I am 21 years old.\n"
          ]
        }
      ]
    },
    {
      "cell_type": "code",
      "source": [
        "'''12. Implement a class Student with attributes name and grades. Create a method average_grade() to compute\n",
        "the average of the grades.'''\n",
        "class Student:\n",
        "  def __init__(self,name,grade1,grade2,grade3):\n",
        "    self.name=name\n",
        "    self.grade1=grade1\n",
        "    self.grade2=grade2\n",
        "    self.grade3=grade3\n",
        "  def average_grade(self):\n",
        "    print(\"Average of the grade:\",(self.grade1+self.grade2+self.grade3)/3)\n",
        "s=Student(\"Lisa\",90,89,99)\n",
        "s.average_grade()\n"
      ],
      "metadata": {
        "id": "xHsi4UVXDbZa",
        "colab": {
          "base_uri": "https://localhost:8080/"
        },
        "outputId": "1842f365-f46d-48c5-8feb-0365c38bd442"
      },
      "execution_count": 25,
      "outputs": [
        {
          "output_type": "stream",
          "name": "stdout",
          "text": [
            "Average of the grade: 92.66666666666667\n"
          ]
        }
      ]
    },
    {
      "cell_type": "code",
      "source": [
        "'''13. Create a class Rectangle with methods set_dimensions() to set the dimensions and area() to calculate the\n",
        "area.'''\n",
        "class Rectangle:\n",
        "  def __init__(self):\n",
        "    self.length = 0\n",
        "    self.breadth = 0\n",
        "  def set_dimensions(self, length, breadth):\n",
        "    self.length = length\n",
        "    self.breadth = breadth\n",
        "  def area(self):\n",
        "    print(\"Area is:\",self.length*self.breadth)\n",
        "r=Rectangle()\n",
        "r.set_dimensions(5,3)\n",
        "r.area()"
      ],
      "metadata": {
        "id": "3bDmwxs_DbWx",
        "colab": {
          "base_uri": "https://localhost:8080/"
        },
        "outputId": "a13d9ab3-c05a-4297-db73-0b9215078c71"
      },
      "execution_count": 24,
      "outputs": [
        {
          "output_type": "stream",
          "name": "stdout",
          "text": [
            "Area is: 15\n"
          ]
        }
      ]
    },
    {
      "cell_type": "code",
      "source": [
        "'''14. Create a class Employee with a method calculate_salary() that computes the salary based on hours worked\n",
        "and hourly rate. Create a derived class Manager that adds a bonus to the salary.'''\n",
        "class Employee:\n",
        "  def __init__(self, hours_worked, hourly_rate):\n",
        "    self.hours_worked = hours_worked\n",
        "    self.hourly_rate = hourly_rate\n",
        "  def calculate_salary(self):\n",
        "    print(\"Employee's salary is:\", self.hours_worked * self.hourly_rate)\n",
        "class Manager(Employee):\n",
        "  def __init__(self, hours_worked, hourly_rate, bonus):\n",
        "    super().__init__(hours_worked, hourly_rate)\n",
        "    self.bonus = bonus\n",
        "  def calculate_salary(self):\n",
        "    previous_salary = self.hours_worked * self.hourly_rate\n",
        "    total_salary = previous_salary+ self.bonus\n",
        "    print(\"Manager's total salary is:\", total_salary)\n",
        "e = Employee(40, 500)\n",
        "e.calculate_salary()\n",
        "m = Manager(40, 500, 5000)\n",
        "m.calculate_salary()\n"
      ],
      "metadata": {
        "id": "lMLJ7YBLDbUI",
        "colab": {
          "base_uri": "https://localhost:8080/"
        },
        "outputId": "e88daa9a-feaf-4306-d9f8-c5262ca9c87e"
      },
      "execution_count": 22,
      "outputs": [
        {
          "output_type": "stream",
          "name": "stdout",
          "text": [
            "Employee's salary is: 20000\n",
            "Manager's total salary is: 25000\n"
          ]
        }
      ]
    },
    {
      "cell_type": "code",
      "source": [
        "'''15. Create a class Product with attributes name, price, and quantity. Implement a method total_price() that\n",
        "calculates the total price of the product.'''\n",
        "class Product:\n",
        "  def __init__(self,name,price,quantity):\n",
        "    self.name=name\n",
        "    self.price=price\n",
        "    self.quantity=quantity\n",
        "  def total_price(self):\n",
        "    print(\"Total price is:\",self.price*self.quantity)\n",
        "p=Product(\"Mobile ph\",30000,5)\n",
        "p.total_price()"
      ],
      "metadata": {
        "id": "0WPciQNwDbRg",
        "colab": {
          "base_uri": "https://localhost:8080/"
        },
        "outputId": "7f6742e4-9aad-4e4c-b61d-ab319eec42af"
      },
      "execution_count": 20,
      "outputs": [
        {
          "output_type": "stream",
          "name": "stdout",
          "text": [
            "Total price is: 150000\n"
          ]
        }
      ]
    },
    {
      "cell_type": "code",
      "source": [
        "'''16. Create a class Animal with an abstract method sound(). Create two derived classes Cow and Sheep that\n",
        "implement the sound() method.'''\n",
        "from abc import ABC,abstractmethod\n",
        "class Animal(ABC):\n",
        "  @abstractmethod\n",
        "  def sound(self):\n",
        "    pass\n",
        "class Cow(Animal):\n",
        "  def sound(self):\n",
        "    print(\"Cow says Moo\")\n",
        "class Sheep(Animal):\n",
        "  def sound(self):\n",
        "    print(\"Sheep says Baa\")\n",
        "c=Cow()\n",
        "c.sound()\n",
        "s=Sheep()\n",
        "s.sound()"
      ],
      "metadata": {
        "id": "bvkkuTUXDbOo",
        "colab": {
          "base_uri": "https://localhost:8080/"
        },
        "outputId": "ef799f3e-d456-403c-bb67-427094023e60"
      },
      "execution_count": 19,
      "outputs": [
        {
          "output_type": "stream",
          "name": "stdout",
          "text": [
            "Cow says Moo\n",
            "Sheep says Baa\n"
          ]
        }
      ]
    },
    {
      "cell_type": "code",
      "source": [
        "'''17. Create a class Book with attributes title, author, and year_published. Add a method get_book_info() that\n",
        "returns a formatted string with the book's details.'''\n",
        "class Book:\n",
        "  def __init__(self,title,author,year_published):\n",
        "    self.title=title\n",
        "    self.author=author\n",
        "    self.year_published=year_published\n",
        "  def get_book_info(self):\n",
        "    return (f\"Title: {self.title}, Author: {self.author}, Year: {self.year_published}\")\n",
        "b=Book(\"Wings of Fire\", \"A.P.J. Abdul Kalam\", 1999)\n",
        "print(b.get_book_info())"
      ],
      "metadata": {
        "id": "z4Cb8tOmD4J2",
        "colab": {
          "base_uri": "https://localhost:8080/"
        },
        "outputId": "396836a8-dd4f-4132-ab00-d5786ca87961"
      },
      "execution_count": 16,
      "outputs": [
        {
          "output_type": "stream",
          "name": "stdout",
          "text": [
            "Title: Wings of Fire, Author: A.P.J. Abdul Kalam, Year: 1999\n"
          ]
        }
      ]
    },
    {
      "cell_type": "code",
      "source": [
        "'''18. Create a class House with attributes address and price. Create a derived class Mansion that adds an\n",
        "attribute number_of_rooms.'''\n",
        "class House:\n",
        "  def __init__(self,address,price):\n",
        "    self.address=address\n",
        "    self.price=price\n",
        "class Mansion(House):\n",
        "  def __init__(self,address,price,number_of_rooms):\n",
        "    super().__init__(address,price)\n",
        "    self.number_of_rooms=number_of_rooms\n",
        "h=House(\"Nandanpur\",400000)\n",
        "m=Mansion(\"Khanakul\",1000000,5)\n",
        "print(\"Address of house is:\",h.address)\n",
        "print(\"Price of house is:\",h.price)\n",
        "print(\"Price of Masion is:\",m.price)\n",
        "print(\"Address of masion is:\",m.address)\n",
        "print(\"Number of rooms in masion is:\",m.number_of_rooms)\n"
      ],
      "metadata": {
        "id": "IqjAOelGD4Ge",
        "colab": {
          "base_uri": "https://localhost:8080/"
        },
        "outputId": "782e6999-cfbc-4cfd-c1b3-270cf6911781"
      },
      "execution_count": 14,
      "outputs": [
        {
          "output_type": "stream",
          "name": "stdout",
          "text": [
            "Address of house is: Nandanpur\n",
            "Price of house is: 400000\n",
            "Price of Masion is: 1000000\n",
            "Address of masion is: Khanakul\n",
            "Number of rooms in masion is: 5\n"
          ]
        }
      ]
    }
  ]
}